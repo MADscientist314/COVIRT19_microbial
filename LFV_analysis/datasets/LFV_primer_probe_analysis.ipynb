{
 "cells": [
  {
   "cell_type": "code",
   "execution_count": 109,
   "metadata": {},
   "outputs": [],
   "source": [
    "import numpy as np\n",
    "import csv"
   ]
  },
  {
   "cell_type": "code",
   "execution_count": 110,
   "metadata": {},
   "outputs": [],
   "source": [
    "list1=np.loadtxt(\"parsnp.vcf.csv\", skiprows=1,delimiter=',', dtype=str)\n",
    "mut=list1[:,0:1]\n",
    "nt=list1[:,1:2]\n",
    "ref=list1[:,2:3]\n",
    "lfv=list1[:,3:4]"
   ]
  },
  {
   "cell_type": "code",
   "execution_count": 111,
   "metadata": {},
   "outputs": [],
   "source": [
    "list2=np.loadtxt(\"SARS_CoV2_primer_map.txt\", skiprows=1,delimiter='\\t', dtype=str)\n",
    "primername=list2[:,0:1]\n",
    "fasta=list2[:,1:2]\n",
    "sense=list2[:,2:3]\n",
    "start=list2[:,3:4]\n",
    "stop=list2[:,4:5]"
   ]
  },
  {
   "cell_type": "code",
   "execution_count": 114,
   "metadata": {},
   "outputs": [],
   "source": [
    "sample = open('samplefile.txt', 'w') \n",
    "for x in range(len(primername)):\n",
    "    for y in range(len(list1)):\n",
    "        p=primername[x]\n",
    "        s=int(start[x])\n",
    "        t=int(stop[x])\n",
    "        r=ref[y]\n",
    "        l=lfv[y]\n",
    "        m=int(mut[y])\n",
    "        if t>=m>=s:\n",
    "            a=p,r,l,m,s,t\n",
    "            print(p,r,l,m,s,t, file=sample)\n",
    "sample.close()"
   ]
  },
  {
   "cell_type": "code",
   "execution_count": 113,
   "metadata": {},
   "outputs": [],
   "source": [
    "#alternative list for Baylor+Mason SNVs\n",
    "list1=np.loadtxt(\"Baylor+mason.vcf.csv\", skiprows=1,delimiter=',', dtype=str)\n",
    "mut=list1[:,1:2]\n",
    "ref=list1[:,3:4]\n",
    "lfv=list1[:,4:5]"
   ]
  }
 ],
 "metadata": {
  "kernelspec": {
   "display_name": "Python 3.7.0 32-bit",
   "language": "python",
   "name": "python37032bitb16ec0a1671344c4ab1fb8aef015e834"
  },
  "language_info": {
   "codemirror_mode": {
    "name": "ipython",
    "version": 3
   },
   "file_extension": ".py",
   "mimetype": "text/x-python",
   "name": "python",
   "nbconvert_exporter": "python",
   "pygments_lexer": "ipython3",
   "version": "3.7.0-final"
  }
 },
 "nbformat": 4,
 "nbformat_minor": 4
}